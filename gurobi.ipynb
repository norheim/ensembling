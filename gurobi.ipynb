{
 "cells": [
  {
   "cell_type": "code",
   "execution_count": 1,
   "metadata": {},
   "outputs": [],
   "source": [
    "import numpy as np\n",
    "import gurobipy as gp\n",
    "from gurobipy import GRB\n",
    "import cvxpy as cp\n",
    "from scipy.optimize import fsolve, root, minimize, NonlinearConstraint"
   ]
  },
  {
   "cell_type": "code",
   "execution_count": 2,
   "metadata": {},
   "outputs": [],
   "source": [
    "import matplotlib.pyplot as plt"
   ]
  },
  {
   "cell_type": "code",
   "execution_count": 3,
   "metadata": {},
   "outputs": [],
   "source": [
    "def generate_data(seed, m=100, n=20, sigma=0.1, density=0.5):\n",
    "    \"Generates data matrix X and observations Y.\"\n",
    "    np.random.seed(1)\n",
    "    beta_star = np.random.randn(n)\n",
    "    #idxs = np.random.choice(range(n), int((1-density)*n), replace=False)\n",
    "    #for idx in idxs:\n",
    "    #    beta_star[idx] = 0\n",
    "    np.random.seed(seed)\n",
    "    X = np.random.randn(m,n)\n",
    "    Y = X.dot(beta_star) + np.random.normal(0, sigma, size=m)\n",
    "    return X, Y, beta_star"
   ]
  },
  {
   "cell_type": "code",
   "execution_count": 22,
   "metadata": {},
   "outputs": [],
   "source": [
    "def load_data(dataset=1):\n",
    "    data = np.loadtxt('multiStudy_sims_Continuous.csv', delimiter=',', skiprows=1)\n",
    "    s = data[:,0]\n",
    "    selection = s==dataset\n",
    "    X = data[selection, 2:]\n",
    "    Y = data[selection, 1]\n",
    "    return X,Y"
   ]
  },
  {
   "cell_type": "code",
   "execution_count": 79,
   "metadata": {},
   "outputs": [],
   "source": [
    "n = 6\n",
    "m = 50\n",
    "x1, y1 = load_data(1)#generate_data(10, m=m,n=n)\n",
    "X1, Y1 = x1[:m,:], y1[:m]\n",
    "x2, y2 = load_data(2)#generate_data(20, m=m,n=n)\n",
    "X2, Y2 = x2[:m,:], y2[:m]\n",
    "Y = np.concatenate((Y1,Y2))\n",
    "X = np.concatenate((X1,X2))"
   ]
  },
  {
   "cell_type": "code",
   "execution_count": 80,
   "metadata": {},
   "outputs": [],
   "source": [
    "b_1 = Y1.T@X1\n",
    "b_2 = Y2.T@X2\n",
    "A1 = X1.T@X1\n",
    "A2 = X2.T@X2\n",
    "A = A1+A2"
   ]
  },
  {
   "cell_type": "code",
   "execution_count": 81,
   "metadata": {},
   "outputs": [],
   "source": [
    "#@np.vectorize\n",
    "def res(l):\n",
    "    #l = np.array([l1,l2])\n",
    "    v1 = np.linalg.solve(A1.T,l)\n",
    "    v2 = np.linalg.solve(A2.T,l)\n",
    "    w1 = -2*b_1@v1/(l.T@v1)\n",
    "    w2 = -2*b_2@v2/(l.T@v2)\n",
    "    b1 = b_1+0.5*l*w1\n",
    "    b2 = b_2+0.5*l*w2\n",
    "    b = (b_1+b_2)-0.5*l\n",
    "    β = np.linalg.solve(A,b)\n",
    "    β1 = np.linalg.solve(A1,b1)\n",
    "    β2 = np.linalg.solve(A2,b2)\n",
    "    r = w1*β1+w2*β2-β\n",
    "    #B1 = npa.matmul(X1, β)-Y1\n",
    "    #B2 = npa.matmul(X2, β)-Y2\n",
    "    #B3 = Y1-npa.matmul(X1, β1)\n",
    "    #B4 = Y2-npa.matmul(X2, β2)\n",
    "    return r   #npa.inner(B1,B1)+npa.inner(B2,B2)+npa.inner(B3,B3)+npa.inner(B4,B4)"
   ]
  },
  {
   "cell_type": "code",
   "execution_count": 82,
   "metadata": {},
   "outputs": [],
   "source": [
    "import autograd.numpy as npa\n",
    "from autograd import jacobian, grad\n",
    "def obj(x):\n",
    "    b = npa.array([x[0], x[1]])\n",
    "    b1 = npa.array([x[2], x[3]])\n",
    "    b2 = npa.array([x[4], x[5]])\n",
    "    w1 = x[6]\n",
    "    w2 = x[7]\n",
    "    l = npa.array([x[8], x[9]])\n",
    "    B1 = npa.matmul(X1, b)-Y1\n",
    "    B2 = npa.matmul(X2, b)-Y2\n",
    "    B3 = Y1-npa.matmul(X1, b1)\n",
    "    B4 = Y2-npa.matmul(X2, b2)\n",
    "    return npa.inner(B1,B1)+npa.inner(B2,B2)+npa.inner(B3,B3)+npa.inner(B4,B4)+np.dot(l, b-w1*b1-w2*b2)\n",
    "dobj = grad(obj)"
   ]
  },
  {
   "cell_type": "code",
   "execution_count": 94,
   "metadata": {},
   "outputs": [],
   "source": [
    "l0 = (0.5-np.random.rand(6))"
   ]
  },
  {
   "cell_type": "code",
   "execution_count": 95,
   "metadata": {},
   "outputs": [],
   "source": [
    "l = fsolve(res, l0)"
   ]
  },
  {
   "cell_type": "code",
   "execution_count": 96,
   "metadata": {},
   "outputs": [
    {
     "data": {
      "text/plain": [
       "array([ 74.8204967 , -23.12910959, -46.97963017, -70.07041212,\n",
       "       -41.30911674,  70.04163512])"
      ]
     },
     "execution_count": 96,
     "metadata": {},
     "output_type": "execute_result"
    }
   ],
   "source": [
    "l"
   ]
  },
  {
   "cell_type": "code",
   "execution_count": 132,
   "metadata": {},
   "outputs": [],
   "source": [
    "v1 = np.linalg.solve(A1,l)\n",
    "v2 = np.linalg.solve(A2,l)\n",
    "w1 = -2*b_1@v1/(l.T@v1)\n",
    "w2 = -2*b_2@v2/(l.T@v2)\n",
    "b1 = b_1+0.5*l*w1\n",
    "b2 = b_2+0.5*l*w2\n",
    "b = (b_1+b_2)-0.5*l\n",
    "β = np.linalg.solve(A,b)\n",
    "β1 = np.linalg.solve(A1,b1)\n",
    "β2 = np.linalg.solve(A2,b2)\n",
    "r = w1*β1+w2*β2-β"
   ]
  },
  {
   "cell_type": "code",
   "execution_count": 133,
   "metadata": {},
   "outputs": [],
   "source": [
    "z1 = np.linalg.solve(A1,b_1)"
   ]
  },
  {
   "cell_type": "code",
   "execution_count": 147,
   "metadata": {},
   "outputs": [
    {
     "data": {
      "text/plain": [
       "array([ 1.97269713, -0.13769653,  0.30429889, -0.00873979,  2.99569393,\n",
       "       -0.19060175])"
      ]
     },
     "execution_count": 147,
     "metadata": {},
     "output_type": "execute_result"
    }
   ],
   "source": [
    "(z1*(l@v1)-v1*(l@z1))/(l@v1)"
   ]
  },
  {
   "cell_type": "code",
   "execution_count": 144,
   "metadata": {},
   "outputs": [
    {
     "data": {
      "text/plain": [
       "array([ 1.97269713, -0.13769653,  0.30429889, -0.00873979,  2.99569393,\n",
       "       -0.19060175])"
      ]
     },
     "execution_count": 144,
     "metadata": {},
     "output_type": "execute_result"
    }
   ],
   "source": [
    "β1"
   ]
  },
  {
   "cell_type": "code",
   "execution_count": 134,
   "metadata": {},
   "outputs": [
    {
     "ename": "ValueError",
     "evalue": "matmul: Input operand 1 does not have enough dimensions (has 0, gufunc core with signature (n?,k),(k,m?)->(n?,m?) requires 1)",
     "output_type": "error",
     "traceback": [
      "\u001b[1;31m---------------------------------------------------------------------------\u001b[0m",
      "\u001b[1;31mValueError\u001b[0m                                Traceback (most recent call last)",
      "\u001b[1;32m<ipython-input-134-2707240b17f2>\u001b[0m in \u001b[0;36m<module>\u001b[1;34m\u001b[0m\n\u001b[1;32m----> 1\u001b[1;33m \u001b[0mz1\u001b[0m\u001b[1;33m-\u001b[0m\u001b[0mz1\u001b[0m\u001b[1;33m@\u001b[0m\u001b[1;33m(\u001b[0m\u001b[0ml\u001b[0m\u001b[1;33m@\u001b[0m\u001b[0mz2\u001b[0m\u001b[1;33m)\u001b[0m\u001b[1;33m/\u001b[0m\u001b[1;33m(\u001b[0m\u001b[0ml\u001b[0m\u001b[1;33m@\u001b[0m\u001b[0mv1\u001b[0m\u001b[1;33m)\u001b[0m\u001b[1;33m\u001b[0m\u001b[1;33m\u001b[0m\u001b[0m\n\u001b[0m",
      "\u001b[1;31mValueError\u001b[0m: matmul: Input operand 1 does not have enough dimensions (has 0, gufunc core with signature (n?,k),(k,m?)->(n?,m?) requires 1)"
     ]
    }
   ],
   "source": [
    "z1-z1@(l@z2)/(l@v1)"
   ]
  },
  {
   "cell_type": "code",
   "execution_count": 127,
   "metadata": {},
   "outputs": [
    {
     "data": {
      "text/plain": [
       "-15.37512104223019"
      ]
     },
     "execution_count": 127,
     "metadata": {},
     "output_type": "execute_result"
    }
   ],
   "source": [
    "l@np.linalg.solve(A1,b_1)"
   ]
  },
  {
   "cell_type": "code",
   "execution_count": 119,
   "metadata": {},
   "outputs": [
    {
     "data": {
      "text/plain": [
       "-15.375121042229694"
      ]
     },
     "execution_count": 119,
     "metadata": {},
     "output_type": "execute_result"
    }
   ],
   "source": [
    "b_1@v1"
   ]
  },
  {
   "cell_type": "code",
   "execution_count": 128,
   "metadata": {},
   "outputs": [],
   "source": [
    "z1 = np.linalg.solve(A1,b_1)\n",
    "z2 = np.linalg.solve(A1, l)"
   ]
  },
  {
   "cell_type": "code",
   "execution_count": 129,
   "metadata": {},
   "outputs": [
    {
     "data": {
      "text/plain": [
       "0.17174120471114235"
      ]
     },
     "execution_count": 129,
     "metadata": {},
     "output_type": "execute_result"
    }
   ],
   "source": [
    "-2*l@z1/(l@z2)"
   ]
  },
  {
   "cell_type": "code",
   "execution_count": 130,
   "metadata": {},
   "outputs": [
    {
     "data": {
      "text/plain": [
       "0.1717412047111368"
      ]
     },
     "execution_count": 130,
     "metadata": {},
     "output_type": "execute_result"
    }
   ],
   "source": [
    "w1"
   ]
  },
  {
   "cell_type": "code",
   "execution_count": 98,
   "metadata": {},
   "outputs": [
    {
     "data": {
      "text/plain": [
       "array([ 1.48601604, -0.86529931, -2.32871984,  0.86521911,  2.39053099,\n",
       "       -1.1596456 ])"
      ]
     },
     "execution_count": 98,
     "metadata": {},
     "output_type": "execute_result"
    }
   ],
   "source": [
    "β"
   ]
  },
  {
   "cell_type": "code",
   "execution_count": 99,
   "metadata": {},
   "outputs": [],
   "source": [
    "#dobj(np.array([*β, *β1, *β2, w1, w2, *l]))"
   ]
  },
  {
   "cell_type": "code",
   "execution_count": 100,
   "metadata": {},
   "outputs": [],
   "source": [
    "#w1*β1+w2*β2-β"
   ]
  },
  {
   "cell_type": "code",
   "execution_count": 101,
   "metadata": {},
   "outputs": [
    {
     "data": {
      "text/plain": [
       "-1.580957587066223e-12"
      ]
     },
     "execution_count": 101,
     "metadata": {},
     "output_type": "execute_result"
    }
   ],
   "source": [
    "l.T@β1"
   ]
  },
  {
   "cell_type": "code",
   "execution_count": 102,
   "metadata": {},
   "outputs": [
    {
     "data": {
      "text/plain": [
       "(0.1717412047111368, 1.2677524802342965)"
      ]
     },
     "execution_count": 102,
     "metadata": {},
     "output_type": "execute_result"
    }
   ],
   "source": [
    "w1,w2"
   ]
  },
  {
   "cell_type": "code",
   "execution_count": 103,
   "metadata": {},
   "outputs": [],
   "source": [
    "β11=np.linalg.solve(A1,b_1)\n",
    "β22=np.linalg.solve(A2,b_2)"
   ]
  },
  {
   "cell_type": "code",
   "execution_count": 104,
   "metadata": {},
   "outputs": [],
   "source": [
    "Xs = np.vstack((\n",
    "    np.array((X1@β11, X1@β22)).T,\n",
    "    np.array((X2@β11, X2@β22)).T,\n",
    "))\n",
    "#Xs = np.c_[Xs, np.ones(2*m)]\n",
    "(w1,w2),_,_,_ = np.linalg.lstsq(Xs, Y, rcond=None)"
   ]
  },
  {
   "cell_type": "code",
   "execution_count": 105,
   "metadata": {},
   "outputs": [],
   "source": [
    "βs = w1*β11+w2*β22"
   ]
  },
  {
   "cell_type": "code",
   "execution_count": 107,
   "metadata": {},
   "outputs": [
    {
     "data": {
      "text/plain": [
       "9133.691792107757"
      ]
     },
     "execution_count": 107,
     "metadata": {},
     "output_type": "execute_result"
    }
   ],
   "source": [
    "B1 = Y1-X1@βs\n",
    "B2 = Y2-X2@βs\n",
    "B3 = Y1-X1@β11\n",
    "B4 = Y2-X2@β22\n",
    "np.inner(B1,B1)+np.inner(B2,B2)+np.inner(B3,B3)+np.inner(B4,B4)"
   ]
  },
  {
   "cell_type": "code",
   "execution_count": null,
   "metadata": {},
   "outputs": [],
   "source": []
  },
  {
   "cell_type": "code",
   "execution_count": 124,
   "metadata": {},
   "outputs": [
    {
     "data": {
      "text/plain": [
       "array([ 1.30739863e-12,  5.65592018e-12,  4.76063633e-13, -6.03961325e-13,\n",
       "        6.11066753e-13, -2.62900812e-13,  0.00000000e+00,  0.00000000e+00,\n",
       "        0.00000000e+00,  0.00000000e+00])"
      ]
     },
     "execution_count": 124,
     "metadata": {},
     "output_type": "execute_result"
    }
   ],
   "source": [
    "dobj(np.array([*βs, *β11, *β22, w1, w2, *l]))"
   ]
  },
  {
   "cell_type": "code",
   "execution_count": 304,
   "metadata": {},
   "outputs": [
    {
     "data": {
      "text/plain": [
       "3.3651303965598345e-11"
      ]
     },
     "execution_count": 304,
     "metadata": {},
     "output_type": "execute_result"
    }
   ],
   "source": [
    "β2@l"
   ]
  },
  {
   "cell_type": "code",
   "execution_count": 302,
   "metadata": {},
   "outputs": [
    {
     "data": {
      "text/plain": [
       "array([0., 0.])"
      ]
     },
     "execution_count": 302,
     "metadata": {},
     "output_type": "execute_result"
    }
   ],
   "source": [
    "A@β-b"
   ]
  },
  {
   "cell_type": "code",
   "execution_count": 246,
   "metadata": {},
   "outputs": [
    {
     "data": {
      "text/plain": [
       "array([1.09721949, 2.20845139])"
      ]
     },
     "execution_count": 246,
     "metadata": {},
     "output_type": "execute_result"
    }
   ],
   "source": [
    "β"
   ]
  },
  {
   "cell_type": "code",
   "execution_count": 261,
   "metadata": {},
   "outputs": [
    {
     "data": {
      "text/plain": [
       "array([ 0.02170315, -0.02201794])"
      ]
     },
     "execution_count": 261,
     "metadata": {},
     "output_type": "execute_result"
    }
   ],
   "source": [
    "w1*β1+w2*β2"
   ]
  },
  {
   "cell_type": "code",
   "execution_count": 225,
   "metadata": {},
   "outputs": [
    {
     "data": {
      "text/plain": [
       "array([0.75557598, 0.32838893])"
      ]
     },
     "execution_count": 225,
     "metadata": {},
     "output_type": "execute_result"
    }
   ],
   "source": [
    "β2"
   ]
  },
  {
   "cell_type": "code",
   "execution_count": 70,
   "metadata": {},
   "outputs": [
    {
     "data": {
      "text/plain": [
       "-1208.662828314424"
      ]
     },
     "execution_count": 70,
     "metadata": {},
     "output_type": "execute_result"
    }
   ],
   "source": [
    "np.linalg.solve(A1,b1)@l"
   ]
  },
  {
   "cell_type": "code",
   "execution_count": 71,
   "metadata": {},
   "outputs": [
    {
     "data": {
      "text/plain": [
       "-98.94221124434301"
      ]
     },
     "execution_count": 71,
     "metadata": {},
     "output_type": "execute_result"
    }
   ],
   "source": [
    "np.linalg.solve(A2,b2)@l"
   ]
  },
  {
   "cell_type": "code",
   "execution_count": 6,
   "metadata": {},
   "outputs": [],
   "source": [
    "#np.round(beta_1.value,2), np.round(beta_2.value,2)"
   ]
  },
  {
   "cell_type": "code",
   "execution_count": 7,
   "metadata": {},
   "outputs": [
    {
     "data": {
      "text/plain": [
       "17.4419740552104"
      ]
     },
     "execution_count": 7,
     "metadata": {},
     "output_type": "execute_result"
    }
   ],
   "source": [
    "beta_1 = cp.Variable(n)\n",
    "beta_2 = cp.Variable(n)\n",
    "beta_t = cp.Variable(n)\n",
    "w = cp.Variable(2, pos=True)\n",
    "wo = cp.Variable(pos=True)\n",
    "problem1 = cp.Problem(cp.Minimize(cp.norm2(X1 @ beta_1 - Y1)**2+cp.norm1(beta_1)))\n",
    "problem2 = cp.Problem(cp.Minimize(cp.norm2(X2 @ beta_2 - Y2)**2+cp.norm1(beta_2)))\n",
    "problem1.solve()\n",
    "problem2.solve()"
   ]
  },
  {
   "cell_type": "code",
   "execution_count": 8,
   "metadata": {},
   "outputs": [],
   "source": [
    "Xs = np.vstack((\n",
    "    np.array((X1@beta_1.value, X1@beta_2.value)).T,\n",
    "    np.array((X2@beta_1.value, X2@beta_2.value)).T\n",
    "))"
   ]
  },
  {
   "cell_type": "code",
   "execution_count": 9,
   "metadata": {},
   "outputs": [
    {
     "data": {
      "text/plain": [
       "29.315860719025295"
      ]
     },
     "execution_count": 9,
     "metadata": {},
     "output_type": "execute_result"
    }
   ],
   "source": [
    "problem = cp.Problem(cp.Minimize(cp.norm2(Xs @ w + wo - Y)**2))\n",
    "problem.solve()"
   ]
  },
  {
   "cell_type": "code",
   "execution_count": 10,
   "metadata": {},
   "outputs": [
    {
     "data": {
      "text/plain": [
       "55.19641665007369"
      ]
     },
     "execution_count": 10,
     "metadata": {},
     "output_type": "execute_result"
    }
   ],
   "source": [
    "(np.linalg.norm(X1 @ beta_1.value - Y1)**2+np.linalg.norm(beta_1.value,1)+\n",
    "np.linalg.norm(X2 @ beta_2.value - Y2)**2+np.linalg.norm(beta_2.value,1)+\n",
    " np.linalg.norm(Xs @ w.value + wo.value - Y)**2)"
   ]
  },
  {
   "cell_type": "code",
   "execution_count": 11,
   "metadata": {},
   "outputs": [
    {
     "data": {
      "text/plain": [
       "42.41727826929899"
      ]
     },
     "execution_count": 11,
     "metadata": {},
     "output_type": "execute_result"
    }
   ],
   "source": [
    "problem3 = cp.Problem(cp.Minimize(cp.norm2(X @ beta_t - Y)**2))\n",
    "problem3.solve()"
   ]
  },
  {
   "cell_type": "code",
   "execution_count": 12,
   "metadata": {},
   "outputs": [
    {
     "data": {
      "text/plain": [
       "(array([0.48649032, 0.25493841]), 11.615292203140323)"
      ]
     },
     "execution_count": 12,
     "metadata": {},
     "output_type": "execute_result"
    }
   ],
   "source": [
    "w.value, wo.value"
   ]
  },
  {
   "cell_type": "code",
   "execution_count": 13,
   "metadata": {},
   "outputs": [
    {
     "name": "stdout",
     "output_type": "stream",
     "text": [
      "Using license file C:\\Users\\johan\\gurobi.lic\n",
      "Academic license - for non-commercial use only\n"
     ]
    }
   ],
   "source": [
    "md = gp.Model()\n",
    "beta1 = md.addMVar(n, lb=-gp.GRB.INFINITY, name=\"beta1\") \n",
    "beta1p = md.addMVar(n, name=\"beta1p\") \n",
    "beta2 = md.addMVar(n, lb=-gp.GRB.INFINITY, name=\"beta2\") \n",
    "beta2p = md.addMVar(n, name=\"beta2p\") \n",
    "beta = md.addMVar(n, lb=-gp.GRB.INFINITY, name=\"beta\") \n",
    "b11 = md.addMVar(m, lb=-gp.GRB.INFINITY, name=\"b11\")\n",
    "#B11 = md.addMVar(m, lb=-gp.GRB.INFINITY, name=\"B11\")\n",
    "#B12 = md.addMVar(m, lb=-gp.GRB.INFINITY, name=\"B12\")\n",
    "#B21 = md.addMVar(m, lb=-gp.GRB.INFINITY, name=\"B21\")\n",
    "b22 = md.addMVar(m, lb=-gp.GRB.INFINITY, name=\"b22\")\n",
    "#B22 = md.addMVar(m, lb=-gp.GRB.INFINITY, name=\"B22\")\n",
    "b12 = md.addMVar(m, lb=-gp.GRB.INFINITY, name=\"b12\")\n",
    "b21 = md.addMVar(m, lb=-gp.GRB.INFINITY, name=\"b21\")\n",
    "#c1 = md.addMVar(m, lb=-gp.GRB.INFINITY, name=\"c1\")\n",
    "#c2 = md.addMVar(m, lb=-gp.GRB.INFINITY, name=\"c2\")\n",
    "y1 = md.addMVar(1, name=\"y1\")\n",
    "y2 = md.addMVar(1, name=\"y2\")\n",
    "y3 = md.addMVar(1, name=\"y3\")\n",
    "y4 = md.addMVar(1, name=\"y4\")\n",
    "t = md.addMVar(6, name=\"t\")\n",
    "w0 = md.addMVar(1,name=\"w0\")\n",
    "w1 = md.addMVar(1,name=\"w1\")\n",
    "w2 = md.addMVar(1,name=\"w2\")"
   ]
  },
  {
   "cell_type": "code",
   "execution_count": 14,
   "metadata": {},
   "outputs": [],
   "source": [
    "md.addConstr(b11 == X1 @ beta1 - Y1);\n",
    "md.addConstr(np.array([1,0,0,0,0,0]) @ t == y1)\n",
    "md.addConstr(b11 @ b11 <= y1 @ y1)\n",
    "\n",
    "md.addConstr(b22 == X2 @ beta2 - Y2)\n",
    "md.addConstr(np.array([0,1,0,0,0,0]) @ t == y2)\n",
    "md.addConstr(b22 @ b22 <= y2 @ y2)\n",
    "\n",
    "md.addConstr(b12 == X1 @ beta - Y1)\n",
    "md.addConstr(np.array([0,0,1,0,0,0]) @ t == y3)\n",
    "md.addConstr(b12 @ b21 <= y3 @ y3)\n",
    "\n",
    "md.addConstr(b21 == X2 @ beta - Y2)\n",
    "md.addConstr(np.array([0,0,0,1,0,0]) @ t == y4)\n",
    "md.addConstr(b21 @ b21 <= y4 @ y4)\n",
    "\n",
    "# md.addConstr(B12 == X1 @ beta2)\n",
    "# md.addConstr(B21 == X2 @ beta1)\n",
    "\n",
    "for idx in range(n):\n",
    "    md.addConstr(beta[idx] == w0+w1@beta1[idx]+w2@beta2[idx])\n",
    "# #md.addConstr(np.array([0,0,1,0,0,0]) @ t == np.ones(m) @ y3)\n",
    "# md.addConstr(np.array([0,0,1,0,0,0]) @ t == y3)\n",
    "# md.addConstr(c1 @ c1 <= y3 @ y3)\n",
    "# #md.addConstrs((c1[i] <= y3[i] for i in range(m)))\n",
    "# #md.addConstrs((-c1[i] <= y3[i] for i in range(m)))\n",
    "\n",
    "# for idx in range(Y2.shape[0]):\n",
    "#     md.addConstr(c2[idx] == w0+w1@B21[idx]+w2@B22[idx]-Y2[idx])\n",
    "# md.addConstr(np.array([0,0,0,1,0,0]) @ t == y4)\n",
    "# md.addConstr(c2 @ c2 <= y4 @ y4)\n",
    "# #md.addConstr(np.array([0,0,0,1,0,0]) @ t == np.ones(m) @ y4)\n",
    "# #md.addConstrs((c2[i] <= y4[i] for i in range(m)))\n",
    "# #md.addConstrs((-c2[i] <= y4[i] for i in range(m)))\n",
    "\n",
    "\n",
    "# # md.addConstr(beta1 <= beta1p)\n",
    "# # md.addConstr(-beta1 <= beta1p)\n",
    "# # md.addConstr(beta2 <= beta2p)\n",
    "# # md.addConstr(-beta2 <= beta2p)\n",
    "# # md.addConstr(np.array([0,0,0,0,1,0]) @ t == np.ones(n) @ beta1p)\n",
    "# # md.addConstr(np.array([0,0,0,0,0,1]) @ t == np.ones(n) @ beta2p)\n",
    "\n",
    "md.setMObjective(None, np.array([0.5,0.5,0.5,0.5,0,0]), 0.0, None, None, t, GRB.MINIMIZE)"
   ]
  },
  {
   "cell_type": "code",
   "execution_count": 15,
   "metadata": {},
   "outputs": [
    {
     "name": "stdout",
     "output_type": "stream",
     "text": [
      "Changed value of parameter NonConvex to 2\n",
      "   Prev: -1  Min: -1  Max: 2  Default: -1\n",
      "Gurobi Optimizer version 9.0.1 build v9.0.1rc0 (win64)\n",
      "Optimize a model with 64 rows, 83 columns and 188 nonzeros\n",
      "Model fingerprint: 0x7793aa19\n",
      "Model has 6 quadratic constraints\n",
      "Coefficient statistics:\n",
      "  Matrix range     [1e+00, 3e+01]\n",
      "  QMatrix range    [1e+00, 1e+00]\n",
      "  QLMatrix range   [1e+00, 1e+00]\n",
      "  Objective range  [5e-01, 5e-01]\n",
      "  Bounds range     [0e+00, 0e+00]\n",
      "  RHS range        [7e+00, 3e+01]\n",
      "Presolve removed 4 rows and 10 columns\n",
      "\n",
      "Continuous model is non-convex -- solving as a MIP.\n",
      "\n",
      "Presolve removed 4 rows and 10 columns\n",
      "Presolve time: 0.01s\n",
      "Presolved: 113 rows, 139 columns, 346 nonzeros\n",
      "Presolved model has 45 quadratic constraint(s)\n",
      "Presolved model has 20 bilinear constraint(s)\n",
      "Variable types: 139 continuous, 0 integer (0 binary)\n",
      "\n",
      "Root relaxation: objective 0.000000e+00, 19 iterations, 0.00 seconds\n",
      "\n",
      "    Nodes    |    Current Node    |     Objective Bounds      |     Work\n",
      " Expl Unexpl |  Obj  Depth IntInf | Incumbent    BestBd   Gap | It/Node Time\n",
      "\n",
      "     0     0    0.00000    0   15          -    0.00000      -     -    0s\n",
      "     0     0    4.61875    0    9          -    4.61875      -     -    0s\n",
      "     0     0    5.13340    0   11          -    5.13340      -     -    0s\n",
      "     0     0    5.36398    0   10          -    5.36398      -     -    0s\n",
      "     0     0    5.40113    0   11          -    5.40113      -     -    0s\n",
      "     0     0    5.40113    0   11          -    5.40113      -     -    0s\n",
      "     0     2    5.40113    0   11          -    5.40113      -     -    0s\n",
      "*  240   127              59       5.4108966    5.40851  0.04%   5.3    1s\n",
      "*  243   133              62       5.4091403    5.40911  0.00%   5.6    1s\n",
      "\n",
      "Explored 293 nodes (1672 simplex iterations) in 1.25 seconds\n",
      "Thread count was 4 (of 4 available processors)\n",
      "\n",
      "Solution count 2: 5.40914 5.4109 \n",
      "\n",
      "Optimal solution found (tolerance 1.00e-04)\n",
      "Warning: max constraint violation (8.1993e-06) exceeds tolerance\n",
      "Best objective 5.409140254994e+00, best bound 5.409114254518e+00, gap 0.0005%\n"
     ]
    }
   ],
   "source": [
    "md.params.NonConvex = 2\n",
    "md.optimize()"
   ]
  },
  {
   "cell_type": "code",
   "execution_count": null,
   "metadata": {},
   "outputs": [],
   "source": [
    "np.sum(t.x)"
   ]
  },
  {
   "cell_type": "code",
   "execution_count": 16,
   "metadata": {},
   "outputs": [
    {
     "data": {
      "text/plain": [
       "array([2.59, 4.11, 0.  , 4.11, 0.  , 0.  ])"
      ]
     },
     "execution_count": 16,
     "metadata": {},
     "output_type": "execute_result"
    }
   ],
   "source": [
    "np.round(t.X,2)"
   ]
  },
  {
   "cell_type": "code",
   "execution_count": 30,
   "metadata": {},
   "outputs": [
    {
     "data": {
      "text/plain": [
       "array([24.52565232, 24.65545476, 24.63095879, 26.41270583, 25.51945792,\n",
       "       27.2354421 , 24.04254729, 25.02158283, 25.30981781, 26.61213328,\n",
       "       24.44262067, 26.52083937, 24.39173959, 27.40973626, 25.69230072])"
      ]
     },
     "execution_count": 30,
     "metadata": {},
     "output_type": "execute_result"
    }
   ],
   "source": [
    "X1@beta1.x"
   ]
  },
  {
   "cell_type": "code",
   "execution_count": 31,
   "metadata": {},
   "outputs": [
    {
     "data": {
      "text/plain": [
       "array([8.27398781, 8.48346276, 8.56883658, 8.396337  , 8.49873473,\n",
       "       9.83669085, 8.43091311, 8.8177345 , 8.02232546, 8.87720798,\n",
       "       8.19301211, 8.87814716, 8.29363191, 8.7957491 , 8.72551433])"
      ]
     },
     "execution_count": 31,
     "metadata": {},
     "output_type": "execute_result"
    }
   ],
   "source": [
    "X2@beta2.x"
   ]
  },
  {
   "cell_type": "code",
   "execution_count": 17,
   "metadata": {},
   "outputs": [
    {
     "data": {
      "text/plain": [
       "(array([-0.29241738,  1.52830179]), array([0.37752379, 0.16406144]))"
      ]
     },
     "execution_count": 17,
     "metadata": {},
     "output_type": "execute_result"
    }
   ],
   "source": [
    "beta1.x, beta2.x"
   ]
  },
  {
   "cell_type": "code",
   "execution_count": 33,
   "metadata": {},
   "outputs": [
    {
     "data": {
      "text/plain": [
       "array([0.37746544, 0.16403566])"
      ]
     },
     "execution_count": 33,
     "metadata": {},
     "output_type": "execute_result"
    }
   ],
   "source": [
    "beta.x"
   ]
  },
  {
   "cell_type": "code",
   "execution_count": 18,
   "metadata": {},
   "outputs": [
    {
     "data": {
      "text/plain": [
       "array([0.])"
      ]
     },
     "execution_count": 18,
     "metadata": {},
     "output_type": "execute_result"
    }
   ],
   "source": [
    "w0.x"
   ]
  },
  {
   "cell_type": "code",
   "execution_count": 19,
   "metadata": {},
   "outputs": [
    {
     "data": {
      "text/plain": [
       "array([0.])"
      ]
     },
     "execution_count": 19,
     "metadata": {},
     "output_type": "execute_result"
    }
   ],
   "source": [
    "w1.x"
   ]
  },
  {
   "cell_type": "code",
   "execution_count": 20,
   "metadata": {},
   "outputs": [
    {
     "data": {
      "text/plain": [
       "array([0.99984289])"
      ]
     },
     "execution_count": 20,
     "metadata": {},
     "output_type": "execute_result"
    }
   ],
   "source": [
    "w2.x"
   ]
  },
  {
   "cell_type": "code",
   "execution_count": 25,
   "metadata": {},
   "outputs": [
    {
     "data": {
      "text/plain": [
       "array([[0.59292811, 0.30131856],\n",
       "       [0.42894052, 0.90663886]])"
      ]
     },
     "execution_count": 25,
     "metadata": {},
     "output_type": "execute_result"
    }
   ],
   "source": [
    "A_noisy"
   ]
  },
  {
   "cell_type": "code",
   "execution_count": 19,
   "metadata": {},
   "outputs": [
    {
     "ename": "NameError",
     "evalue": "name 'model' is not defined",
     "output_type": "error",
     "traceback": [
      "\u001b[1;31m---------------------------------------------------------------------------\u001b[0m",
      "\u001b[1;31mNameError\u001b[0m                                 Traceback (most recent call last)",
      "\u001b[1;32m<ipython-input-19-2a9aa1f064de>\u001b[0m in \u001b[0;36m<module>\u001b[1;34m\u001b[0m\n\u001b[0;32m     18\u001b[0m \u001b[1;33m\u001b[0m\u001b[0m\n\u001b[0;32m     19\u001b[0m \u001b[1;31m# Create variables\u001b[0m\u001b[1;33m\u001b[0m\u001b[1;33m\u001b[0m\u001b[1;33m\u001b[0m\u001b[0m\n\u001b[1;32m---> 20\u001b[1;33m \u001b[0mx\u001b[0m \u001b[1;33m=\u001b[0m \u001b[0mmodel\u001b[0m\u001b[1;33m.\u001b[0m\u001b[0maddMVar\u001b[0m\u001b[1;33m(\u001b[0m\u001b[1;36m10\u001b[0m\u001b[1;33m)\u001b[0m\u001b[1;33m\u001b[0m\u001b[1;33m\u001b[0m\u001b[0m\n\u001b[0m\u001b[0;32m     21\u001b[0m \u001b[0mx\u001b[0m \u001b[1;33m=\u001b[0m \u001b[0mm\u001b[0m\u001b[1;33m.\u001b[0m\u001b[0maddVar\u001b[0m\u001b[1;33m(\u001b[0m\u001b[0mname\u001b[0m\u001b[1;33m=\u001b[0m\u001b[1;34m\"x\"\u001b[0m\u001b[1;33m)\u001b[0m\u001b[1;33m\u001b[0m\u001b[1;33m\u001b[0m\u001b[0m\n\u001b[0;32m     22\u001b[0m \u001b[0my\u001b[0m \u001b[1;33m=\u001b[0m \u001b[0mm\u001b[0m\u001b[1;33m.\u001b[0m\u001b[0maddVar\u001b[0m\u001b[1;33m(\u001b[0m\u001b[0mname\u001b[0m\u001b[1;33m=\u001b[0m\u001b[1;34m\"y\"\u001b[0m\u001b[1;33m)\u001b[0m\u001b[1;33m\u001b[0m\u001b[1;33m\u001b[0m\u001b[0m\n",
      "\u001b[1;31mNameError\u001b[0m: name 'model' is not defined"
     ]
    }
   ],
   "source": [
    "#!/usr/bin/env python3.7\n",
    "\n",
    "# Copyright 2020, Gurobi Optimization, LLC\n",
    "\n",
    "# This example formulates and solves the following simple bilinear model:\n",
    "#  maximize    x\n",
    "#  subject to  x + y + z <= 10\n",
    "#              x * y <= 2         (bilinear inequality)\n",
    "#              x * z + y * z = 1  (bilinear equality)\n",
    "#              x, y, z non-negative (x integral in second version)\n",
    "\n",
    "# Create a new model\n",
    "m = gp.Model(\"bilinear\")\n",
    "m.Params.OutputFlag=0\n",
    "\n",
    "# Create variables\n",
    "x = model.addMVar(10) \n",
    "x = m.addVar(name=\"x\")\n",
    "y = m.addVar(name=\"y\")\n",
    "z = m.addVar(name=\"z\")\n",
    "\n",
    "# Set objective: maximize x\n",
    "m.setObjective(1.0*x, GRB.MAXIMIZE)\n",
    "\n",
    "# Add linear constraint: x + y + z <= 10\n",
    "m.addConstr(x + y + z <= 10, \"c0\")\n",
    "\n",
    "# Add bilinear inequality constraint: x * y <= 2\n",
    "m.addConstr(x*y <= 2, \"bilinear0\")\n",
    "\n",
    "# Add bilinear equality constraint: x * z + y * z == 1\n",
    "m.addConstr(x*z + y*z == 1, \"bilinear1\")\n",
    "\n",
    "# First optimize() call will fail - need to set NonConvex to 2\n",
    "try:\n",
    "    m.optimize()\n",
    "except gp.GurobiError:\n",
    "    print(\"Optimize failed due to non-convexity\")\n",
    "\n",
    "# Solve bilinear model\n",
    "m.params.NonConvex = 2\n",
    "m.optimize()\n",
    "\n",
    "m.printAttr('x')\n",
    "\n",
    "# Constrain 'x' to be integral and solve again\n",
    "x.vType = GRB.INTEGER\n",
    "m.optimize()\n",
    "\n",
    "m.printAttr('x')"
   ]
  },
  {
   "cell_type": "code",
   "execution_count": 15,
   "metadata": {},
   "outputs": [
    {
     "data": {
      "text/plain": [
       "0.1111111111111111"
      ]
     },
     "execution_count": 15,
     "metadata": {},
     "output_type": "execute_result"
    }
   ],
   "source": [
    "z.X"
   ]
  },
  {
   "cell_type": "code",
   "execution_count": null,
   "metadata": {},
   "outputs": [],
   "source": []
  },
  {
   "cell_type": "code",
   "execution_count": 18,
   "metadata": {},
   "outputs": [],
   "source": [
    "c1 = [1, -1e-3, 1e3]\n",
    "c2 = [1, -1, 1]\n",
    "c3 = [1, 1, 1]\n",
    "c4 = [1, 1e3, 1e-3]"
   ]
  },
  {
   "cell_type": "code",
   "execution_count": 22,
   "metadata": {},
   "outputs": [
    {
     "data": {
      "text/plain": [
       "     fun: -0.0009999999597214025\n",
       "     jac: array([ 0.00034298, -0.00200067, -0.01195438])\n",
       " message: 'Optimization terminated successfully.'\n",
       "    nfev: 461\n",
       "     nit: 57\n",
       "    njev: 57\n",
       "  status: 0\n",
       " success: True\n",
       "       x: array([-1.51297131e-06,  1.00000007e+00, -4.23225867e-07])"
      ]
     },
     "execution_count": 22,
     "metadata": {},
     "output_type": "execute_result"
    }
   ],
   "source": [
    "minimize(lambda x: np.dot(c1, x**2), [0,0,0], constraints=(\n",
    "    NonlinearConstraint(lambda x: np.dot(c3, x**2), 1, 1)))"
   ]
  }
 ],
 "metadata": {
  "kernelspec": {
   "display_name": "mdo",
   "language": "python",
   "name": "mdo"
  },
  "language_info": {
   "codemirror_mode": {
    "name": "ipython",
    "version": 3
   },
   "file_extension": ".py",
   "mimetype": "text/x-python",
   "name": "python",
   "nbconvert_exporter": "python",
   "pygments_lexer": "ipython3",
   "version": "3.6.7"
  }
 },
 "nbformat": 4,
 "nbformat_minor": 4
}
